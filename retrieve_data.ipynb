{
 "cells": [
  {
   "cell_type": "markdown",
   "metadata": {},
   "source": [
    "### Import Required Libraries and Set Up Environment Variables"
   ]
  },
  {
   "cell_type": "code",
   "execution_count": 4,
   "metadata": {},
   "outputs": [],
   "source": [
    "# Dependencies\n",
    "import requests\n",
    "import time\n",
    "from dotenv import load_dotenv\n",
    "import os\n",
    "import pandas as pd\n",
    "import json\n",
    "import os\n",
    "from datetime import datetime\n",
    "## Load the NASA_API_KEY from the env file\n",
    "load_dotenv()\n",
    "NASA_API_KEY = os.getenv('NASA_API_KEY')"
   ]
  },
  {
   "cell_type": "markdown",
   "metadata": {},
   "source": [
    "### CME Data"
   ]
  },
  {
   "cell_type": "code",
   "execution_count": 5,
   "metadata": {},
   "outputs": [
    {
     "name": "stdout",
     "output_type": "stream",
     "text": [
      "https://api.nasa.gov/DONKI/CME?startDate=2013-05-01&endDate=2024-05-01&api_key=TDaNLcfNeKlIkd6P2ulNKKmIB7uRBn9jaQbQaQsp\n"
     ]
    }
   ],
   "source": [
    "# Set the base URL to NASA's DONKI API:\n",
    "base_url = \"https://api.nasa.gov/DONKI/\"\n",
    "\n",
    "# Set the specifier for CMEs:\n",
    "CME = \"CME\"\n",
    "\n",
    "# Search for CMEs published between a begin and end date\n",
    "startDate = \"2013-05-01\"\n",
    "endDate   = \"2024-05-01\"\n",
    "\n",
    "# Build URL for CME\n",
    "cme_url = base_url + CME + \"?startDate=\" + startDate + \"&endDate=\" + endDate + \"&api_key=\" + NASA_API_KEY\n",
    "print(cme_url)"
   ]
  },
  {
   "cell_type": "code",
   "execution_count": 6,
   "metadata": {},
   "outputs": [],
   "source": [
    "# Make a \"GET\" request for the CME URL and store it in a variable named cme_response\n",
    "cme_response = requests.get(cme_url)"
   ]
  },
  {
   "cell_type": "code",
   "execution_count": 7,
   "metadata": {},
   "outputs": [],
   "source": [
    "# Convert the response variable to json and store it as a variable named cme_json\n",
    "cme_json = cme_response.json()"
   ]
  },
  {
   "cell_type": "code",
   "execution_count": 8,
   "metadata": {
    "scrolled": true
   },
   "outputs": [
    {
     "name": "stdout",
     "output_type": "stream",
     "text": [
      "{'activityID': '2013-05-01T03:12:00-CME-001', 'catalog': 'M2M_CATALOG', 'startTime': '2013-05-01T03:12Z', 'instruments': [{'displayName': 'SOHO: LASCO/C2'}, {'displayName': 'SOHO: LASCO/C3'}, {'displayName': 'STEREO A: SECCHI/COR2'}, {'displayName': 'STEREO B: SECCHI/COR2'}], 'sourceLocation': '', 'activeRegionNum': None, 'note': '', 'submissionTime': '2013-08-07T16:54Z', 'versionId': 1, 'link': 'https://webtools.ccmc.gsfc.nasa.gov/DONKI/view/CME/2349/-1', 'cmeAnalyses': [{'isMostAccurate': True, 'time21_5': '2013-05-01T07:07Z', 'latitude': 12.0, 'longitude': -120.0, 'halfAngle': 36.0, 'speed': 860.0, 'type': 'C', 'featureCode': 'null', 'imageType': None, 'measurementTechnique': 'null', 'note': '', 'levelOfData': 0, 'tilt': None, 'minorHalfWidth': None, 'speedMeasuredAtHeight': None, 'submissionTime': '2013-08-07T16:54Z', 'link': 'https://webtools.ccmc.gsfc.nasa.gov/DONKI/view/CMEAnalysis/2350/-1', 'enlilList': [{'modelCompletionTime': '2013-05-01T08:32Z', 'au': 2.0, 'estimatedShockArrivalTime': None, 'estimatedDuration': None, 'rmin_re': None, 'kp_18': None, 'kp_90': None, 'kp_135': None, 'kp_180': None, 'isEarthGB': False, 'link': 'https://webtools.ccmc.gsfc.nasa.gov/DONKI/view/WSA-ENLIL/2348/-1', 'impactList': [{'isGlancingBlow': False, 'location': 'STEREO B', 'arrivalTime': '2013-05-04T06:16Z'}], 'cmeIDs': ['2013-05-01T03:12:00-CME-001']}]}], 'linkedEvents': [{'activityID': '2013-05-04T04:52:00-IPS-001'}]}\n",
      "{\n",
      "    \"activityID\": \"2013-05-01T03:12:00-CME-001\",\n",
      "    \"catalog\": \"M2M_CATALOG\",\n",
      "    \"startTime\": \"2013-05-01T03:12Z\",\n",
      "    \"instruments\": [\n",
      "        {\n",
      "            \"displayName\": \"SOHO: LASCO/C2\"\n",
      "        },\n",
      "        {\n",
      "            \"displayName\": \"SOHO: LASCO/C3\"\n",
      "        },\n",
      "        {\n",
      "            \"displayName\": \"STEREO A: SECCHI/COR2\"\n",
      "        },\n",
      "        {\n",
      "            \"displayName\": \"STEREO B: SECCHI/COR2\"\n",
      "        }\n",
      "    ],\n",
      "    \"sourceLocation\": \"\",\n",
      "    \"activeRegionNum\": null,\n",
      "    \"note\": \"\",\n",
      "    \"submissionTime\": \"2013-08-07T16:54Z\",\n",
      "    \"versionId\": 1,\n",
      "    \"link\": \"https://webtools.ccmc.gsfc.nasa.gov/DONKI/view/CME/2349/-1\",\n",
      "    \"cmeAnalyses\": [\n",
      "        {\n",
      "            \"isMostAccurate\": true,\n",
      "            \"time21_5\": \"2013-05-01T07:07Z\",\n",
      "            \"latitude\": 12.0,\n",
      "            \"longitude\": -120.0,\n",
      "            \"halfAngle\": 36.0,\n",
      "            \"speed\": 860.0,\n",
      "            \"type\": \"C\",\n",
      "            \"featureCode\": \"null\",\n",
      "            \"imageType\": null,\n",
      "            \"measurementTechnique\": \"null\",\n",
      "            \"note\": \"\",\n",
      "            \"levelOfData\": 0,\n",
      "            \"tilt\": null,\n",
      "            \"minorHalfWidth\": null,\n",
      "            \"speedMeasuredAtHeight\": null,\n",
      "            \"submissionTime\": \"2013-08-07T16:54Z\",\n",
      "            \"link\": \"https://webtools.ccmc.gsfc.nasa.gov/DONKI/view/CMEAnalysis/2350/-1\",\n",
      "            \"enlilList\": [\n",
      "                {\n",
      "                    \"modelCompletionTime\": \"2013-05-01T08:32Z\",\n",
      "                    \"au\": 2.0,\n",
      "                    \"estimatedShockArrivalTime\": null,\n",
      "                    \"estimatedDuration\": null,\n",
      "                    \"rmin_re\": null,\n",
      "                    \"kp_18\": null,\n",
      "                    \"kp_90\": null,\n",
      "                    \"kp_135\": null,\n",
      "                    \"kp_180\": null,\n",
      "                    \"isEarthGB\": false,\n",
      "                    \"link\": \"https://webtools.ccmc.gsfc.nasa.gov/DONKI/view/WSA-ENLIL/2348/-1\",\n",
      "                    \"impactList\": [\n",
      "                        {\n",
      "                            \"isGlancingBlow\": false,\n",
      "                            \"location\": \"STEREO B\",\n",
      "                            \"arrivalTime\": \"2013-05-04T06:16Z\"\n",
      "                        }\n",
      "                    ],\n",
      "                    \"cmeIDs\": [\n",
      "                        \"2013-05-01T03:12:00-CME-001\"\n",
      "                    ]\n",
      "                }\n",
      "            ]\n",
      "        }\n",
      "    ],\n",
      "    \"linkedEvents\": [\n",
      "        {\n",
      "            \"activityID\": \"2013-05-04T04:52:00-IPS-001\"\n",
      "        }\n",
      "    ]\n",
      "}\n",
      "dict_keys(['activityID', 'catalog', 'startTime', 'instruments', 'sourceLocation', 'activeRegionNum', 'note', 'submissionTime', 'versionId', 'link', 'cmeAnalyses', 'linkedEvents'])\n"
     ]
    }
   ],
   "source": [
    "# Preview the first result in JSON format\n",
    "# Use json.dumps with argument indent=4 to format data\n",
    "first_result = cme_json[0]\n",
    "print(first_result)\n",
    "\n",
    "first_result_formatted = json.dumps(first_result,indent=4)\n",
    "print(first_result_formatted)\n",
    "print(first_result.keys()) "
   ]
  },
  {
   "cell_type": "code",
   "execution_count": 40,
   "metadata": {},
   "outputs": [
    {
     "name": "stdout",
     "output_type": "stream",
     "text": [
      "                       activityID          startTime  \\\n",
      "0     2013-05-01T03:12:00-CME-001  2013-05-01T03:12Z   \n",
      "1     2013-05-02T05:24:00-CME-001  2013-05-02T05:24Z   \n",
      "2     2013-05-02T14:36:00-CME-001  2013-05-02T14:36Z   \n",
      "3     2013-05-03T18:00:00-CME-001  2013-05-03T18:00Z   \n",
      "4     2013-05-03T22:36:00-CME-001  2013-05-03T22:36Z   \n",
      "...                           ...                ...   \n",
      "5519  2024-05-01T06:36:00-CME-001  2024-05-01T06:36Z   \n",
      "5520  2024-05-01T11:36:00-CME-001  2024-05-01T11:36Z   \n",
      "5521  2024-05-01T12:36:00-CME-001  2024-05-01T12:36Z   \n",
      "5522  2024-05-01T17:36:00-CME-001  2024-05-01T17:36Z   \n",
      "5523  2024-05-01T23:16:00-CME-001  2024-05-01T23:16Z   \n",
      "\n",
      "                                         linkedEvents  \n",
      "0     [{'activityID': '2013-05-04T04:52:00-IPS-001'}]  \n",
      "1                                                None  \n",
      "2                                                None  \n",
      "3                                                None  \n",
      "4     [{'activityID': '2013-05-07T04:37:00-IPS-001'}]  \n",
      "...                                               ...  \n",
      "5519                                             None  \n",
      "5520                                             None  \n",
      "5521                                             None  \n",
      "5522                                             None  \n",
      "5523  [{'activityID': '2024-05-01T22:26:00-FLR-001'}]  \n",
      "\n",
      "[5524 rows x 3 columns]\n"
     ]
    }
   ],
   "source": [
    "# Convert cme_json to a Pandas DataFrame \n",
    "cme_df = pd.DataFrame(cme_json)\n",
    "\n",
    "# Keep only the columns: activityID, startTime, linkedEvents\n",
    "cme_df_filtered = cme_df[['activityID', 'startTime', 'linkedEvents']]\n",
    "\n",
    "print(cme_df_filtered)"
   ]
  },
  {
   "cell_type": "code",
   "execution_count": 10,
   "metadata": {},
   "outputs": [
    {
     "name": "stdout",
     "output_type": "stream",
     "text": [
      "                       activityID          startTime  \\\n",
      "0     2013-05-01T03:12:00-CME-001  2013-05-01T03:12Z   \n",
      "4     2013-05-03T22:36:00-CME-001  2013-05-03T22:36Z   \n",
      "7     2013-05-09T19:29:00-CME-001  2013-05-09T19:29Z   \n",
      "10    2013-05-13T02:54:00-CME-001  2013-05-13T02:54Z   \n",
      "13    2013-05-13T16:18:00-CME-001  2013-05-13T16:18Z   \n",
      "...                           ...                ...   \n",
      "5496  2024-04-24T01:48:00-CME-001  2024-04-24T01:48Z   \n",
      "5499  2024-04-24T15:05:00-CME-001  2024-04-24T15:05Z   \n",
      "5504  2024-04-25T18:24:00-CME-001  2024-04-25T18:24Z   \n",
      "5516  2024-04-30T00:36:00-CME-001  2024-04-30T00:36Z   \n",
      "5523  2024-05-01T23:16:00-CME-001  2024-05-01T23:16Z   \n",
      "\n",
      "                                           linkedEvents  \n",
      "0       [{'activityID': '2013-05-04T04:52:00-IPS-001'}]  \n",
      "4       [{'activityID': '2013-05-07T04:37:00-IPS-001'}]  \n",
      "7       [{'activityID': '2013-05-12T23:30:00-IPS-001'}]  \n",
      "10    [{'activityID': '2013-05-13T01:53:00-FLR-001'}...  \n",
      "13    [{'activityID': '2013-05-13T15:40:00-FLR-001'}...  \n",
      "...                                                 ...  \n",
      "5496    [{'activityID': '2024-04-26T00:17:00-IPS-001'}]  \n",
      "5499    [{'activityID': '2024-04-24T14:02:00-FLR-001'}]  \n",
      "5504    [{'activityID': '2024-04-25T17:03:00-FLR-001'}]  \n",
      "5516    [{'activityID': '2024-04-30T00:46:00-FLR-001'}]  \n",
      "5523    [{'activityID': '2024-05-01T22:26:00-FLR-001'}]  \n",
      "\n",
      "[1023 rows x 3 columns]\n"
     ]
    }
   ],
   "source": [
    "# Notice that the linkedEvents column allows us to identify the corresponding GST\n",
    "# Remove rows with missing 'linkedEvents' since we won't be able to assign these to GSTs\n",
    "cme_df_filtered = cme_df_filtered.dropna(subset=['linkedEvents'])\n",
    "print(cme_df_filtered)"
   ]
  },
  {
   "cell_type": "code",
   "execution_count": 11,
   "metadata": {},
   "outputs": [
    {
     "name": "stdout",
     "output_type": "stream",
     "text": [
      "                       activityID          startTime  \\\n",
      "0     2013-05-01T03:12:00-CME-001  2013-05-01T03:12Z   \n",
      "1     2013-05-03T22:36:00-CME-001  2013-05-03T22:36Z   \n",
      "2     2013-05-09T19:29:00-CME-001  2013-05-09T19:29Z   \n",
      "3     2013-05-13T02:54:00-CME-001  2013-05-13T02:54Z   \n",
      "4     2013-05-13T02:54:00-CME-001  2013-05-13T02:54Z   \n",
      "...                           ...                ...   \n",
      "1709  2024-04-24T01:48:00-CME-001  2024-04-24T01:48Z   \n",
      "1710  2024-04-24T15:05:00-CME-001  2024-04-24T15:05Z   \n",
      "1711  2024-04-25T18:24:00-CME-001  2024-04-25T18:24Z   \n",
      "1712  2024-04-30T00:36:00-CME-001  2024-04-30T00:36Z   \n",
      "1713  2024-05-01T23:16:00-CME-001  2024-05-01T23:16Z   \n",
      "\n",
      "                                           linkedEvents  \n",
      "0       [{'activityID': '2013-05-04T04:52:00-IPS-001'}]  \n",
      "1       [{'activityID': '2013-05-07T04:37:00-IPS-001'}]  \n",
      "2       [{'activityID': '2013-05-12T23:30:00-IPS-001'}]  \n",
      "3     [{'activityID': '2013-05-13T01:53:00-FLR-001'}...  \n",
      "4     [{'activityID': '2013-05-13T01:53:00-FLR-001'}...  \n",
      "...                                                 ...  \n",
      "1709    [{'activityID': '2024-04-26T00:17:00-IPS-001'}]  \n",
      "1710    [{'activityID': '2024-04-24T14:02:00-FLR-001'}]  \n",
      "1711    [{'activityID': '2024-04-25T17:03:00-FLR-001'}]  \n",
      "1712    [{'activityID': '2024-04-30T00:46:00-FLR-001'}]  \n",
      "1713    [{'activityID': '2024-05-01T22:26:00-FLR-001'}]  \n",
      "\n",
      "[1714 rows x 3 columns]\n"
     ]
    }
   ],
   "source": [
    "# Notice that the linkedEvents sometimes contains multiple events per row\n",
    "# Write a nested for loop that iterates first over each row in the cme DataFrame (using the index)\n",
    "# and then iterates over the values in 'linkedEvents' \n",
    "# and adds the elements individually to a list of dictionaries where each row is one element \n",
    "\n",
    "# Initialize an empty list to store the expanded rows\n",
    "expanded_rows = []\n",
    "\n",
    "# Iterate over each index in the DataFrame\n",
    "for i in cme_df_filtered.index:\n",
    "    activityid = cme_df_filtered.loc[i,'activityID']\n",
    "    starttime = cme_df_filtered.loc[i,'startTime']\n",
    "    linkedevents = cme_df_filtered.loc[i,'linkedEvents']\n",
    "\n",
    "    # Iterate over each dictionary in the list\n",
    "        # Append a new dictionary to the expanded_rows list for each dictionary item and corresponding 'activityID' and 'startTime' value\n",
    "    for i in linkedevents:\n",
    "        expanded_rows.append({\n",
    "            'activityID': activityid,\n",
    "            'startTime': starttime,\n",
    "            'linkedEvents': linkedevents\n",
    "        })\n",
    "\n",
    "# Create a new DataFrame from the expanded rows\n",
    "expanded_rows_df = pd.DataFrame(expanded_rows)\n",
    "\n",
    "print(expanded_rows_df)"
   ]
  },
  {
   "cell_type": "code",
   "execution_count": 12,
   "metadata": {},
   "outputs": [],
   "source": [
    "# Create a function called extract_activityID_from_dict that takes a dict as input such as in linkedEvents\n",
    "# and verify below that it works as expected using one row from linkedEvents as an example\n",
    "# Be sure to use a try and except block to handle errors\n",
    "\n",
    "# Log the error or print it for debugging\n",
    "\n",
    "def extract_activityID_from_dict(input_dict):\n",
    "    try:\n",
    "        return input_dict['activityID']\n",
    "    except(ValueError, TypeError, KeyError) as error:\n",
    "        print(f\"Error:{error}\")\n",
    "        \n",
    "\n"
   ]
  },
  {
   "cell_type": "code",
   "execution_count": 13,
   "metadata": {},
   "outputs": [],
   "source": [
    "# Apply this function to each row in the 'linkedEvents' column (you can use apply() and a lambda function)\n",
    "# and create a new column called 'GST_ActivityID' using loc indexer:\n",
    "\n",
    "cme_df_filtered['GST_ActivityID'] = cme_df_filtered['linkedEvents'].apply(\n",
    "    lambda events: extract_activityID_from_dict(events[0]) if isinstance(events,list) else None\n",
    ")"
   ]
  },
  {
   "cell_type": "code",
   "execution_count": 14,
   "metadata": {},
   "outputs": [
    {
     "name": "stdout",
     "output_type": "stream",
     "text": [
      "                       activityID          startTime  \\\n",
      "0     2013-05-01T03:12:00-CME-001  2013-05-01T03:12Z   \n",
      "4     2013-05-03T22:36:00-CME-001  2013-05-03T22:36Z   \n",
      "7     2013-05-09T19:29:00-CME-001  2013-05-09T19:29Z   \n",
      "10    2013-05-13T02:54:00-CME-001  2013-05-13T02:54Z   \n",
      "13    2013-05-13T16:18:00-CME-001  2013-05-13T16:18Z   \n",
      "...                           ...                ...   \n",
      "5496  2024-04-24T01:48:00-CME-001  2024-04-24T01:48Z   \n",
      "5499  2024-04-24T15:05:00-CME-001  2024-04-24T15:05Z   \n",
      "5504  2024-04-25T18:24:00-CME-001  2024-04-25T18:24Z   \n",
      "5516  2024-04-30T00:36:00-CME-001  2024-04-30T00:36Z   \n",
      "5523  2024-05-01T23:16:00-CME-001  2024-05-01T23:16Z   \n",
      "\n",
      "                                           linkedEvents  \\\n",
      "0       [{'activityID': '2013-05-04T04:52:00-IPS-001'}]   \n",
      "4       [{'activityID': '2013-05-07T04:37:00-IPS-001'}]   \n",
      "7       [{'activityID': '2013-05-12T23:30:00-IPS-001'}]   \n",
      "10    [{'activityID': '2013-05-13T01:53:00-FLR-001'}...   \n",
      "13    [{'activityID': '2013-05-13T15:40:00-FLR-001'}...   \n",
      "...                                                 ...   \n",
      "5496    [{'activityID': '2024-04-26T00:17:00-IPS-001'}]   \n",
      "5499    [{'activityID': '2024-04-24T14:02:00-FLR-001'}]   \n",
      "5504    [{'activityID': '2024-04-25T17:03:00-FLR-001'}]   \n",
      "5516    [{'activityID': '2024-04-30T00:46:00-FLR-001'}]   \n",
      "5523    [{'activityID': '2024-05-01T22:26:00-FLR-001'}]   \n",
      "\n",
      "                   GST_ActivityID  \n",
      "0     2013-05-04T04:52:00-IPS-001  \n",
      "4     2013-05-07T04:37:00-IPS-001  \n",
      "7     2013-05-12T23:30:00-IPS-001  \n",
      "10    2013-05-13T01:53:00-FLR-001  \n",
      "13    2013-05-13T15:40:00-FLR-001  \n",
      "...                           ...  \n",
      "5496  2024-04-26T00:17:00-IPS-001  \n",
      "5499  2024-04-24T14:02:00-FLR-001  \n",
      "5504  2024-04-25T17:03:00-FLR-001  \n",
      "5516  2024-04-30T00:46:00-FLR-001  \n",
      "5523  2024-05-01T22:26:00-FLR-001  \n",
      "\n",
      "[1023 rows x 4 columns]\n"
     ]
    }
   ],
   "source": [
    "# Remove rows with missing GST_ActivityID, since we can't assign them to GSTs:\n",
    "cme_df_filtered = cme_df_filtered.dropna(subset=['GST_ActivityID'])\n",
    "\n",
    "cme_df_filtered_gst = cme_df_filtered[['activityID', 'startTime', 'linkedEvents', 'GST_ActivityID']]\n",
    "print(cme_df_filtered_gst)"
   ]
  },
  {
   "cell_type": "code",
   "execution_count": 15,
   "metadata": {},
   "outputs": [
    {
     "name": "stdout",
     "output_type": "stream",
     "text": [
      "activityID        object\n",
      "startTime         object\n",
      "linkedEvents      object\n",
      "GST_ActivityID    object\n",
      "dtype: object\n"
     ]
    }
   ],
   "source": [
    "# print out the datatype of each column in this DataFrame:\n",
    "print(cme_df_filtered_gst.dtypes)"
   ]
  },
  {
   "cell_type": "code",
   "execution_count": 16,
   "metadata": {},
   "outputs": [
    {
     "name": "stdout",
     "output_type": "stream",
     "text": [
      "                            cmeID             startTime_CME  \\\n",
      "0     2013-05-01T03:12:00-CME-001 2013-05-01 03:12:00+00:00   \n",
      "4     2013-05-03T22:36:00-CME-001 2013-05-03 22:36:00+00:00   \n",
      "7     2013-05-09T19:29:00-CME-001 2013-05-09 19:29:00+00:00   \n",
      "10    2013-05-13T02:54:00-CME-001 2013-05-13 02:54:00+00:00   \n",
      "13    2013-05-13T16:18:00-CME-001 2013-05-13 16:18:00+00:00   \n",
      "...                           ...                       ...   \n",
      "5496  2024-04-24T01:48:00-CME-001 2024-04-24 01:48:00+00:00   \n",
      "5499  2024-04-24T15:05:00-CME-001 2024-04-24 15:05:00+00:00   \n",
      "5504  2024-04-25T18:24:00-CME-001 2024-04-25 18:24:00+00:00   \n",
      "5516  2024-04-30T00:36:00-CME-001 2024-04-30 00:36:00+00:00   \n",
      "5523  2024-05-01T23:16:00-CME-001 2024-05-01 23:16:00+00:00   \n",
      "\n",
      "                   GST_ActivityID  \n",
      "0     2013-05-04T04:52:00-IPS-001  \n",
      "4     2013-05-07T04:37:00-IPS-001  \n",
      "7     2013-05-12T23:30:00-IPS-001  \n",
      "10    2013-05-13T01:53:00-FLR-001  \n",
      "13    2013-05-13T15:40:00-FLR-001  \n",
      "...                           ...  \n",
      "5496  2024-04-26T00:17:00-IPS-001  \n",
      "5499  2024-04-24T14:02:00-FLR-001  \n",
      "5504  2024-04-25T17:03:00-FLR-001  \n",
      "5516  2024-04-30T00:46:00-FLR-001  \n",
      "5523  2024-05-01T22:26:00-FLR-001  \n",
      "\n",
      "[1023 rows x 3 columns]\n"
     ]
    }
   ],
   "source": [
    "# Convert the 'GST_ActivityID' column to string format \n",
    "cme_df_filtered_gst['GST_ActivityID'] = cme_df_filtered_gst['GST_ActivityID'].astype(str)\n",
    "# print(cme_df_filtered_gst.dtypes)\n",
    "\n",
    "# Convert startTime to datetime format  \n",
    "cme_df_filtered_gst['startTime'] = pd.to_datetime(cme_df_filtered_gst['startTime'])\n",
    "# print(cme_df_filtered_gst.dtypes)\n",
    "\n",
    "# Rename startTime to startTime_CME and activityID to cmeID\n",
    "cme_df_filtered_gst = cme_df_filtered_gst.rename(columns={\n",
    "    'startTime': 'startTime_CME',\n",
    "    'activityID': 'cmeID'\n",
    "})\n",
    "# print(cme_df_filtered_gst)\n",
    "\n",
    "# Drop linkedEvents\n",
    "cme_df_filtered_gst_noevents = cme_df_filtered_gst.drop(columns=['linkedEvents'])\n",
    "\n",
    "# Verify that all steps were executed correctly\n",
    "print(cme_df_filtered_gst_noevents)\n"
   ]
  },
  {
   "cell_type": "code",
   "execution_count": 86,
   "metadata": {},
   "outputs": [
    {
     "name": "stdout",
     "output_type": "stream",
     "text": [
      "                            cmeID             startTime_CME  \\\n",
      "26    2013-06-02T20:24:00-CME-001 2013-06-02 20:24:00+00:00   \n",
      "1358  2015-09-04T14:12:00-CME-001 2015-09-04 14:12:00+00:00   \n",
      "1359  2015-09-04T19:24:00-CME-001 2015-09-04 19:24:00+00:00   \n",
      "1361  2015-09-06T23:30:00-CME-001 2015-09-06 23:30:00+00:00   \n",
      "1362  2015-09-07T10:36:00-CME-001 2015-09-07 10:36:00+00:00   \n",
      "5365  2024-03-23T01:48:00-CME-001 2024-03-23 01:48:00+00:00   \n",
      "\n",
      "                   GST_ActivityID  \n",
      "26    2013-06-07T03:00:00-GST-001  \n",
      "1358  2015-09-09T03:00:00-GST-001  \n",
      "1359  2015-09-09T03:00:00-GST-001  \n",
      "1361  2015-09-11T06:00:00-GST-001  \n",
      "1362  2015-09-11T06:00:00-GST-001  \n",
      "5365  2024-03-24T12:00:00-GST-001  \n"
     ]
    },
    {
     "data": {
      "text/plain": [
       "cmeID             6\n",
       "startTime_CME     6\n",
       "GST_ActivityID    6\n",
       "dtype: int64"
      ]
     },
     "execution_count": 86,
     "metadata": {},
     "output_type": "execute_result"
    }
   ],
   "source": [
    "# We are only interested in CMEs related to GSTs so keep only rows where the GST_ActivityID column contains 'GST'\n",
    "# use the method 'contains()' from the str library.  \n",
    "cme_df_filtered_gst_noevents = cme_df_filtered_gst_noevents[cme_df_filtered_gst_noevents['GST_ActivityID'].str.contains('GST', na=False)]\n",
    "print(cme_df_filtered_gst_noevents)\n",
    "\n"
   ]
  },
  {
   "cell_type": "markdown",
   "metadata": {},
   "source": [
    "### GST Data"
   ]
  },
  {
   "cell_type": "code",
   "execution_count": 33,
   "metadata": {},
   "outputs": [
    {
     "name": "stdout",
     "output_type": "stream",
     "text": [
      "https://api.nasa.gov/DONKI/GST?startDate=2013-05-01&endDate=2024-05-01&api_key=TDaNLcfNeKlIkd6P2ulNKKmIB7uRBn9jaQbQaQsp\n"
     ]
    }
   ],
   "source": [
    "# Set the base URL to NASA's DONKI API:\n",
    "base_url = \"https://api.nasa.gov/DONKI/\"\n",
    "\n",
    "# Set the specifier for Geomagnetic Storms (GST):\n",
    "GST = \"GST\"\n",
    "\n",
    "# Search for GSTs between a begin and end date\n",
    "startDateGST = \"2013-05-01\"\n",
    "endDateGST   = \"2024-05-01\"\n",
    "\n",
    "# Build URL for GST\n",
    "# Build URL for CME\n",
    "gst_url = base_url + GST + \"?startDate=\" + startDateGST + \"&endDate=\" + endDateGST + \"&api_key=\" + NASA_API_KEY\n",
    "print(gst_url)"
   ]
  },
  {
   "cell_type": "code",
   "execution_count": 50,
   "metadata": {},
   "outputs": [],
   "source": [
    "# Make a \"GET\" request for the GST URL and store it in a variable named gst_response\n",
    "gst_response = requests.get(gst_url)"
   ]
  },
  {
   "cell_type": "code",
   "execution_count": 57,
   "metadata": {},
   "outputs": [
    {
     "name": "stdout",
     "output_type": "stream",
     "text": [
      "{'gstID': '2013-06-01T01:00:00-GST-001', 'startTime': '2013-06-01T01:00Z', 'allKpIndex': [{'observedTime': '2013-06-01T01:00Z', 'kpIndex': 6.0, 'source': 'NOAA'}], 'link': 'https://webtools.ccmc.gsfc.nasa.gov/DONKI/view/GST/326/-1', 'linkedEvents': [{'activityID': '2013-05-31T15:45:00-HSS-001'}], 'submissionTime': '2013-07-15T19:26Z', 'versionId': 1}\n"
     ]
    }
   ],
   "source": [
    "# Convert the response variable to json and store it as a variable named gst_json\n",
    "gst_json = gst_response.json()\n",
    "\n",
    "# Preview the first result in JSON format\n",
    "# Use json.dumps with argument indent=4 to format data\n",
    "first_result_gst = gst_json[0]\n",
    "print(first_result_gst)\n",
    "\n",
    "\n",
    "first_result_gst_formatted = json.dumps(first_result_gst,indent=4)\n",
    "print(first_result_gst_formatted)\n",
    "# print(first_result_gst.keys()) "
   ]
  },
  {
   "cell_type": "code",
   "execution_count": 71,
   "metadata": {},
   "outputs": [
    {
     "name": "stdout",
     "output_type": "stream",
     "text": [
      "           startTime                                       linkedEvents  \\\n",
      "0  2013-06-01T01:00Z    [{'activityID': '2013-05-31T15:45:00-HSS-001'}]   \n",
      "1  2013-06-07T03:00Z    [{'activityID': '2013-06-02T20:24:00-CME-001'}]   \n",
      "2  2013-06-29T03:00Z                                               None   \n",
      "3  2013-10-02T03:00Z  [{'activityID': '2013-09-29T22:40:00-CME-001'}...   \n",
      "4  2013-12-08T00:00Z  [{'activityID': '2013-12-04T23:12:00-CME-001'}...   \n",
      "\n",
      "                         gstID  \n",
      "0  2013-06-01T01:00:00-GST-001  \n",
      "1  2013-06-07T03:00:00-GST-001  \n",
      "2  2013-06-29T03:00:00-GST-001  \n",
      "3  2013-10-02T03:00:00-GST-001  \n",
      "4  2013-12-08T00:00:00-GST-001  \n"
     ]
    }
   ],
   "source": [
    "# Convert gst_json to a Pandas DataFrame  \n",
    "gst_df = pd.DataFrame(gst_json)\n",
    "\n",
    "# Keep only the columns: activityID, startTime, linkedEvents\n",
    "columns = ['activityID', 'startTime', 'linkedEvents', 'gstID']\n",
    "existing_columns = [col for col in columns if col in gst_df.columns]\n",
    "#activityID is not a column, have to keep gstID for combining later\n",
    "\n",
    "gst_df_filtered = gst_df[existing_columns]\n",
    "\n",
    "print(gst_df_filtered.head())\n",
    "# print(gst_df_filtered)"
   ]
  },
  {
   "cell_type": "code",
   "execution_count": 72,
   "metadata": {},
   "outputs": [
    {
     "name": "stdout",
     "output_type": "stream",
     "text": [
      "             startTime                                       linkedEvents  \\\n",
      "0    2013-06-01T01:00Z    [{'activityID': '2013-05-31T15:45:00-HSS-001'}]   \n",
      "1    2013-06-07T03:00Z    [{'activityID': '2013-06-02T20:24:00-CME-001'}]   \n",
      "3    2013-10-02T03:00Z  [{'activityID': '2013-09-29T22:40:00-CME-001'}...   \n",
      "4    2013-12-08T00:00Z  [{'activityID': '2013-12-04T23:12:00-CME-001'}...   \n",
      "5    2014-02-19T03:00Z  [{'activityID': '2014-02-16T14:15:00-CME-001'}...   \n",
      "..                 ...                                                ...   \n",
      "112  2023-12-18T06:00Z  [{'activityID': '2023-12-14T17:38:00-CME-001'}...   \n",
      "113  2024-03-03T18:00Z  [{'activityID': '2024-02-28T17:48:00-CME-001'}...   \n",
      "114  2024-03-23T21:00Z  [{'activityID': '2024-03-23T12:49:00-IPS-001'}...   \n",
      "115  2024-03-24T12:00Z  [{'activityID': '2024-03-23T01:25:00-CME-001'}...   \n",
      "116  2024-04-19T18:00Z  [{'activityID': '2024-04-15T06:48:00-CME-001'}...   \n",
      "\n",
      "                           gstID  \n",
      "0    2013-06-01T01:00:00-GST-001  \n",
      "1    2013-06-07T03:00:00-GST-001  \n",
      "3    2013-10-02T03:00:00-GST-001  \n",
      "4    2013-12-08T00:00:00-GST-001  \n",
      "5    2014-02-19T03:00:00-GST-001  \n",
      "..                           ...  \n",
      "112  2023-12-18T06:00:00-GST-001  \n",
      "113  2024-03-03T18:00:00-GST-001  \n",
      "114  2024-03-23T21:00:00-GST-001  \n",
      "115  2024-03-24T12:00:00-GST-001  \n",
      "116  2024-04-19T18:00:00-GST-001  \n",
      "\n",
      "[105 rows x 3 columns]\n"
     ]
    }
   ],
   "source": [
    "# Notice that the linkedEvents column allows us to identify the corresponding CME\n",
    "# Remove rows with missing 'linkedEvents' since we won't be able to assign these to CME\n",
    "gst_df_filtered = gst_df_filtered.dropna(subset=['linkedEvents'])\n",
    "print(gst_df_filtered)"
   ]
  },
  {
   "cell_type": "code",
   "execution_count": 75,
   "metadata": {},
   "outputs": [
    {
     "name": "stdout",
     "output_type": "stream",
     "text": [
      "             startTime                                   linkedEvents  \\\n",
      "0    2013-06-01T01:00Z  {'activityID': '2013-05-31T15:45:00-HSS-001'}   \n",
      "1    2013-06-07T03:00Z  {'activityID': '2013-06-02T20:24:00-CME-001'}   \n",
      "2    2013-10-02T03:00Z  {'activityID': '2013-09-29T22:40:00-CME-001'}   \n",
      "3    2013-10-02T03:00Z  {'activityID': '2013-10-02T01:54:00-IPS-001'}   \n",
      "4    2013-10-02T03:00Z  {'activityID': '2013-10-02T02:47:00-MPC-001'}   \n",
      "..                 ...                                            ...   \n",
      "200  2024-03-24T12:00Z  {'activityID': '2024-03-23T01:48:00-CME-001'}   \n",
      "201  2024-03-24T12:00Z  {'activityID': '2024-03-24T14:10:00-IPS-001'}   \n",
      "202  2024-03-24T12:00Z  {'activityID': '2024-03-24T16:25:00-MPC-001'}   \n",
      "203  2024-04-19T18:00Z  {'activityID': '2024-04-15T06:48:00-CME-001'}   \n",
      "204  2024-04-19T18:00Z  {'activityID': '2024-04-19T04:53:00-IPS-001'}   \n",
      "\n",
      "                           gstID  \n",
      "0    2013-06-01T01:00:00-GST-001  \n",
      "1    2013-06-07T03:00:00-GST-001  \n",
      "2    2013-10-02T03:00:00-GST-001  \n",
      "3    2013-10-02T03:00:00-GST-001  \n",
      "4    2013-10-02T03:00:00-GST-001  \n",
      "..                           ...  \n",
      "200  2024-03-24T12:00:00-GST-001  \n",
      "201  2024-03-24T12:00:00-GST-001  \n",
      "202  2024-03-24T12:00:00-GST-001  \n",
      "203  2024-04-19T18:00:00-GST-001  \n",
      "204  2024-04-19T18:00:00-GST-001  \n",
      "\n",
      "[205 rows x 3 columns]\n"
     ]
    }
   ],
   "source": [
    "# Notice that the linkedEvents sometimes contains multiple events per row\n",
    "# Use the explode method to ensure that each row is one element. Ensure to reset the index and drop missing values.\n",
    "gst_df_filtered_explode = gst_df_filtered.explode('linkedEvents')\n",
    "\n",
    "gst_df_filtered_explode = gst_df_filtered_explode.reset_index(drop=True)\n",
    "\n",
    "gst_df_filtered_explode = gst_df_filtered_explode.dropna(subset='linkedEvents')\n",
    "\n",
    "print(gst_df_filtered_explode)"
   ]
  },
  {
   "cell_type": "code",
   "execution_count": 76,
   "metadata": {},
   "outputs": [
    {
     "name": "stdout",
     "output_type": "stream",
     "text": [
      "                  CME_ActivityID  \\\n",
      "0    2013-05-31T15:45:00-HSS-001   \n",
      "1    2013-06-02T20:24:00-CME-001   \n",
      "2    2013-09-29T22:40:00-CME-001   \n",
      "3    2013-10-02T01:54:00-IPS-001   \n",
      "4    2013-10-02T02:47:00-MPC-001   \n",
      "..                           ...   \n",
      "200  2024-03-23T01:48:00-CME-001   \n",
      "201  2024-03-24T14:10:00-IPS-001   \n",
      "202  2024-03-24T16:25:00-MPC-001   \n",
      "203  2024-04-15T06:48:00-CME-001   \n",
      "204  2024-04-19T04:53:00-IPS-001   \n",
      "\n",
      "                                      linkedEvents  \\\n",
      "0    {'activityID': '2013-05-31T15:45:00-HSS-001'}   \n",
      "1    {'activityID': '2013-06-02T20:24:00-CME-001'}   \n",
      "2    {'activityID': '2013-09-29T22:40:00-CME-001'}   \n",
      "3    {'activityID': '2013-10-02T01:54:00-IPS-001'}   \n",
      "4    {'activityID': '2013-10-02T02:47:00-MPC-001'}   \n",
      "..                                             ...   \n",
      "200  {'activityID': '2024-03-23T01:48:00-CME-001'}   \n",
      "201  {'activityID': '2024-03-24T14:10:00-IPS-001'}   \n",
      "202  {'activityID': '2024-03-24T16:25:00-MPC-001'}   \n",
      "203  {'activityID': '2024-04-15T06:48:00-CME-001'}   \n",
      "204  {'activityID': '2024-04-19T04:53:00-IPS-001'}   \n",
      "\n",
      "                           gstID  \n",
      "0    2013-06-01T01:00:00-GST-001  \n",
      "1    2013-06-07T03:00:00-GST-001  \n",
      "2    2013-10-02T03:00:00-GST-001  \n",
      "3    2013-10-02T03:00:00-GST-001  \n",
      "4    2013-10-02T03:00:00-GST-001  \n",
      "..                           ...  \n",
      "200  2024-03-24T12:00:00-GST-001  \n",
      "201  2024-03-24T12:00:00-GST-001  \n",
      "202  2024-03-24T12:00:00-GST-001  \n",
      "203  2024-04-19T18:00:00-GST-001  \n",
      "204  2024-04-19T18:00:00-GST-001  \n",
      "\n",
      "[205 rows x 3 columns]\n"
     ]
    }
   ],
   "source": [
    "# Apply the extract_activityID_from_dict function to each row in the 'linkedEvents' column (you can use apply() and a lambda function)\n",
    "# and create a new column called 'CME_ActivityID' using loc indexer:\n",
    "def extract_activityID_from_dict_gst(linked_event):\n",
    "    try:\n",
    "        return linked_event.get('activityID') if isinstance(linked_event, dict) else None\n",
    "    except(ValueError, TypeError) as error:\n",
    "        print(f\"Error extracting activityId: {error}\")\n",
    "        return None \n",
    "    \n",
    "gst_df_filtered_explode['CME_ActivityID'] = gst_df_filtered_explode['linkedEvents'].apply(lambda x: extract_activityID_from_dict_gst(x))\n",
    "    \n",
    "# Remove rows with missing CME_ActivityID, since we can't assign them to CMEs:\n",
    "gst_df_filtered_explode = gst_df_filtered_explode.dropna(subset='CME_ActivityID')\n",
    "print(gst_df_filtered_explode[['CME_ActivityID','linkedEvents','gstID']])\n"
   ]
  },
  {
   "cell_type": "code",
   "execution_count": 77,
   "metadata": {},
   "outputs": [
    {
     "name": "stdout",
     "output_type": "stream",
     "text": [
      "                startTime_GST                        gstID  \\\n",
      "0   2013-06-01 01:00:00+00:00  2013-06-01T01:00:00-GST-001   \n",
      "1   2013-06-07 03:00:00+00:00  2013-06-07T03:00:00-GST-001   \n",
      "2   2013-10-02 03:00:00+00:00  2013-10-02T03:00:00-GST-001   \n",
      "3   2013-10-02 03:00:00+00:00  2013-10-02T03:00:00-GST-001   \n",
      "4   2013-10-02 03:00:00+00:00  2013-10-02T03:00:00-GST-001   \n",
      "..                        ...                          ...   \n",
      "200 2024-03-24 12:00:00+00:00  2024-03-24T12:00:00-GST-001   \n",
      "201 2024-03-24 12:00:00+00:00  2024-03-24T12:00:00-GST-001   \n",
      "202 2024-03-24 12:00:00+00:00  2024-03-24T12:00:00-GST-001   \n",
      "203 2024-04-19 18:00:00+00:00  2024-04-19T18:00:00-GST-001   \n",
      "204 2024-04-19 18:00:00+00:00  2024-04-19T18:00:00-GST-001   \n",
      "\n",
      "                  CME_ActivityID  \n",
      "0    2013-05-31T15:45:00-HSS-001  \n",
      "1    2013-06-02T20:24:00-CME-001  \n",
      "2    2013-09-29T22:40:00-CME-001  \n",
      "3    2013-10-02T01:54:00-IPS-001  \n",
      "4    2013-10-02T02:47:00-MPC-001  \n",
      "..                           ...  \n",
      "200  2024-03-23T01:48:00-CME-001  \n",
      "201  2024-03-24T14:10:00-IPS-001  \n",
      "202  2024-03-24T16:25:00-MPC-001  \n",
      "203  2024-04-15T06:48:00-CME-001  \n",
      "204  2024-04-19T04:53:00-IPS-001  \n",
      "\n",
      "[205 rows x 3 columns]\n"
     ]
    }
   ],
   "source": [
    "# Convert the 'CME_ActivityID' column to string format \n",
    "gst_df_filtered_explode['CME_ActivityID'] = gst_df_filtered_explode['CME_ActivityID'].astype(str)\n",
    "# print(gst_df_filtered_explode.dtypes)\n",
    "\n",
    "# Convert the 'gstID' column to string format \n",
    "gst_df_filtered_explode['gstID'] = gst_df_filtered_explode['gstID'].astype(str)\n",
    "#We already got rid of this column\n",
    "\n",
    "# Convert startTime to datetime format  \n",
    "gst_df_filtered_explode['startTime'] = pd.to_datetime(gst_df_filtered_explode['startTime'])\n",
    "\n",
    "# Rename startTime to startTime_GST \n",
    "gst_df_filtered_explode = gst_df_filtered_explode.rename(columns={\n",
    "    'startTime': 'startTime_GST'\n",
    "})\n",
    "\n",
    "# Drop linkedEvents\n",
    "gst_df_filtered_explode_drop = gst_df_filtered_explode.drop(columns=['linkedEvents'])\n",
    "\n",
    "# Verify that all steps were executed correctly\n",
    "print(gst_df_filtered_explode_drop)"
   ]
  },
  {
   "cell_type": "code",
   "execution_count": 78,
   "metadata": {},
   "outputs": [
    {
     "name": "stdout",
     "output_type": "stream",
     "text": [
      "                  CME_ActivityID  \\\n",
      "1    2013-06-02T20:24:00-CME-001   \n",
      "2    2013-09-29T22:40:00-CME-001   \n",
      "5    2013-12-04T23:12:00-CME-001   \n",
      "7    2014-02-16T14:15:00-CME-001   \n",
      "9    2014-02-18T01:25:00-CME-001   \n",
      "..                           ...   \n",
      "192  2023-12-14T17:38:00-CME-001   \n",
      "195  2024-02-28T17:48:00-CME-001   \n",
      "199  2024-03-23T01:25:00-CME-001   \n",
      "200  2024-03-23T01:48:00-CME-001   \n",
      "203  2024-04-15T06:48:00-CME-001   \n",
      "\n",
      "                                      linkedEvents  \\\n",
      "1    {'activityID': '2013-06-02T20:24:00-CME-001'}   \n",
      "2    {'activityID': '2013-09-29T22:40:00-CME-001'}   \n",
      "5    {'activityID': '2013-12-04T23:12:00-CME-001'}   \n",
      "7    {'activityID': '2014-02-16T14:15:00-CME-001'}   \n",
      "9    {'activityID': '2014-02-18T01:25:00-CME-001'}   \n",
      "..                                             ...   \n",
      "192  {'activityID': '2023-12-14T17:38:00-CME-001'}   \n",
      "195  {'activityID': '2024-02-28T17:48:00-CME-001'}   \n",
      "199  {'activityID': '2024-03-23T01:25:00-CME-001'}   \n",
      "200  {'activityID': '2024-03-23T01:48:00-CME-001'}   \n",
      "203  {'activityID': '2024-04-15T06:48:00-CME-001'}   \n",
      "\n",
      "                           gstID  \n",
      "1    2013-06-07T03:00:00-GST-001  \n",
      "2    2013-10-02T03:00:00-GST-001  \n",
      "5    2013-12-08T00:00:00-GST-001  \n",
      "7    2014-02-19T03:00:00-GST-001  \n",
      "9    2014-02-20T03:00:00-GST-001  \n",
      "..                           ...  \n",
      "192  2023-12-18T06:00:00-GST-001  \n",
      "195  2024-03-03T18:00:00-GST-001  \n",
      "199  2024-03-24T12:00:00-GST-001  \n",
      "200  2024-03-24T12:00:00-GST-001  \n",
      "203  2024-04-19T18:00:00-GST-001  \n",
      "\n",
      "[61 rows x 3 columns]\n"
     ]
    }
   ],
   "source": [
    "# We are only interested in GSTs related to CMEs so keep only rows where the CME_ActivityID column contains 'CME'\n",
    "# use the method 'contains()' from the str library.  \n",
    "gst_df_filtered_cme = gst_df_filtered_explode[gst_df_filtered_explode['CME_ActivityID'].str.contains('CME',na=False)]\n",
    "\n",
    "print(gst_df_filtered_cme[['CME_ActivityID', 'linkedEvents', 'gstID']])"
   ]
  },
  {
   "cell_type": "markdown",
   "metadata": {},
   "source": [
    "### Merge both datatsets"
   ]
  },
  {
   "cell_type": "code",
   "execution_count": 79,
   "metadata": {},
   "outputs": [
    {
     "name": "stdout",
     "output_type": "stream",
     "text": [
      "               startTime_GST                                   linkedEvents  \\\n",
      "0  2013-06-07 03:00:00+00:00  {'activityID': '2013-06-02T20:24:00-CME-001'}   \n",
      "1  2013-10-02 03:00:00+00:00  {'activityID': '2013-09-29T22:40:00-CME-001'}   \n",
      "2  2013-12-08 00:00:00+00:00  {'activityID': '2013-12-04T23:12:00-CME-001'}   \n",
      "3  2014-02-19 03:00:00+00:00  {'activityID': '2014-02-16T14:15:00-CME-001'}   \n",
      "4  2014-02-20 03:00:00+00:00  {'activityID': '2014-02-18T01:25:00-CME-001'}   \n",
      "..                       ...                                            ...   \n",
      "56 2023-12-18 06:00:00+00:00  {'activityID': '2023-12-14T17:38:00-CME-001'}   \n",
      "57 2024-03-03 18:00:00+00:00  {'activityID': '2024-02-28T17:48:00-CME-001'}   \n",
      "58 2024-03-24 12:00:00+00:00  {'activityID': '2024-03-23T01:25:00-CME-001'}   \n",
      "59 2024-03-24 12:00:00+00:00  {'activityID': '2024-03-23T01:48:00-CME-001'}   \n",
      "60 2024-04-19 18:00:00+00:00  {'activityID': '2024-04-15T06:48:00-CME-001'}   \n",
      "\n",
      "                          gstID               CME_ActivityID  \\\n",
      "0   2013-06-07T03:00:00-GST-001  2013-06-02T20:24:00-CME-001   \n",
      "1   2013-10-02T03:00:00-GST-001  2013-09-29T22:40:00-CME-001   \n",
      "2   2013-12-08T00:00:00-GST-001  2013-12-04T23:12:00-CME-001   \n",
      "3   2014-02-19T03:00:00-GST-001  2014-02-16T14:15:00-CME-001   \n",
      "4   2014-02-20T03:00:00-GST-001  2014-02-18T01:25:00-CME-001   \n",
      "..                          ...                          ...   \n",
      "56  2023-12-18T06:00:00-GST-001  2023-12-14T17:38:00-CME-001   \n",
      "57  2024-03-03T18:00:00-GST-001  2024-02-28T17:48:00-CME-001   \n",
      "58  2024-03-24T12:00:00-GST-001  2024-03-23T01:25:00-CME-001   \n",
      "59  2024-03-24T12:00:00-GST-001  2024-03-23T01:48:00-CME-001   \n",
      "60  2024-04-19T18:00:00-GST-001  2024-04-15T06:48:00-CME-001   \n",
      "\n",
      "                          cmeID             startTime_CME  \\\n",
      "0   2013-06-02T20:24:00-CME-001 2013-06-02 20:24:00+00:00   \n",
      "1                           NaN                       NaT   \n",
      "2                           NaN                       NaT   \n",
      "3                           NaN                       NaT   \n",
      "4                           NaN                       NaT   \n",
      "..                          ...                       ...   \n",
      "56                          NaN                       NaT   \n",
      "57                          NaN                       NaT   \n",
      "58                          NaN                       NaT   \n",
      "59  2024-03-23T01:48:00-CME-001 2024-03-23 01:48:00+00:00   \n",
      "60                          NaN                       NaT   \n",
      "\n",
      "                 GST_ActivityID  \n",
      "0   2013-06-07T03:00:00-GST-001  \n",
      "1                           NaN  \n",
      "2                           NaN  \n",
      "3                           NaN  \n",
      "4                           NaN  \n",
      "..                          ...  \n",
      "56                          NaN  \n",
      "57                          NaN  \n",
      "58                          NaN  \n",
      "59  2024-03-24T12:00:00-GST-001  \n",
      "60                          NaN  \n",
      "\n",
      "[61 rows x 7 columns]\n"
     ]
    }
   ],
   "source": [
    "# Now merge both datasets using 'gstID' and 'CME_ActivityID' for gst and 'GST_ActivityID' and 'cmeID' for cme. Use the 'left_on' and 'right_on' specifiers.\n",
    "cme_gst_df = pd.merge(\n",
    "    gst_df_filtered_cme,\n",
    "    cme_df_filtered_gst_noevents,\n",
    "    left_on = ['gstID', 'CME_ActivityID'],\n",
    "    right_on=['GST_ActivityID', 'cmeID'],\n",
    "    how= 'left'\n",
    ")\n",
    "\n",
    "print(cme_gst_df)"
   ]
  },
  {
   "cell_type": "code",
   "execution_count": 88,
   "metadata": {},
   "outputs": [
    {
     "name": "stdout",
     "output_type": "stream",
     "text": [
      "61\n",
      "6\n",
      "61\n"
     ]
    }
   ],
   "source": [
    "# Verify that the new DataFrame has the same number of rows as cme and gst\n",
    "\n",
    "print(len(gst_df_filtered_cme))\n",
    "print(len(cme_df_filtered_gst_noevents))\n",
    "print(len(cme_gst_df))\n"
   ]
  },
  {
   "cell_type": "markdown",
   "metadata": {},
   "source": [
    "### Computing the time it takes for a CME to cause a GST"
   ]
  },
  {
   "cell_type": "code",
   "execution_count": 90,
   "metadata": {},
   "outputs": [
    {
     "name": "stdout",
     "output_type": "stream",
     "text": [
      "               startTime_GST                                   linkedEvents  \\\n",
      "0  2013-06-07 03:00:00+00:00  {'activityID': '2013-06-02T20:24:00-CME-001'}   \n",
      "1  2013-10-02 03:00:00+00:00  {'activityID': '2013-09-29T22:40:00-CME-001'}   \n",
      "2  2013-12-08 00:00:00+00:00  {'activityID': '2013-12-04T23:12:00-CME-001'}   \n",
      "3  2014-02-19 03:00:00+00:00  {'activityID': '2014-02-16T14:15:00-CME-001'}   \n",
      "4  2014-02-20 03:00:00+00:00  {'activityID': '2014-02-18T01:25:00-CME-001'}   \n",
      "..                       ...                                            ...   \n",
      "56 2023-12-18 06:00:00+00:00  {'activityID': '2023-12-14T17:38:00-CME-001'}   \n",
      "57 2024-03-03 18:00:00+00:00  {'activityID': '2024-02-28T17:48:00-CME-001'}   \n",
      "58 2024-03-24 12:00:00+00:00  {'activityID': '2024-03-23T01:25:00-CME-001'}   \n",
      "59 2024-03-24 12:00:00+00:00  {'activityID': '2024-03-23T01:48:00-CME-001'}   \n",
      "60 2024-04-19 18:00:00+00:00  {'activityID': '2024-04-15T06:48:00-CME-001'}   \n",
      "\n",
      "                          gstID               CME_ActivityID  \\\n",
      "0   2013-06-07T03:00:00-GST-001  2013-06-02T20:24:00-CME-001   \n",
      "1   2013-10-02T03:00:00-GST-001  2013-09-29T22:40:00-CME-001   \n",
      "2   2013-12-08T00:00:00-GST-001  2013-12-04T23:12:00-CME-001   \n",
      "3   2014-02-19T03:00:00-GST-001  2014-02-16T14:15:00-CME-001   \n",
      "4   2014-02-20T03:00:00-GST-001  2014-02-18T01:25:00-CME-001   \n",
      "..                          ...                          ...   \n",
      "56  2023-12-18T06:00:00-GST-001  2023-12-14T17:38:00-CME-001   \n",
      "57  2024-03-03T18:00:00-GST-001  2024-02-28T17:48:00-CME-001   \n",
      "58  2024-03-24T12:00:00-GST-001  2024-03-23T01:25:00-CME-001   \n",
      "59  2024-03-24T12:00:00-GST-001  2024-03-23T01:48:00-CME-001   \n",
      "60  2024-04-19T18:00:00-GST-001  2024-04-15T06:48:00-CME-001   \n",
      "\n",
      "                          cmeID             startTime_CME  \\\n",
      "0   2013-06-02T20:24:00-CME-001 2013-06-02 20:24:00+00:00   \n",
      "1                           NaN                       NaT   \n",
      "2                           NaN                       NaT   \n",
      "3                           NaN                       NaT   \n",
      "4                           NaN                       NaT   \n",
      "..                          ...                       ...   \n",
      "56                          NaN                       NaT   \n",
      "57                          NaN                       NaT   \n",
      "58                          NaN                       NaT   \n",
      "59  2024-03-23T01:48:00-CME-001 2024-03-23 01:48:00+00:00   \n",
      "60                          NaN                       NaT   \n",
      "\n",
      "                 GST_ActivityID          timeDiff  \n",
      "0   2013-06-07T03:00:00-GST-001 -5 days +17:24:00  \n",
      "1                           NaN               NaT  \n",
      "2                           NaN               NaT  \n",
      "3                           NaN               NaT  \n",
      "4                           NaN               NaT  \n",
      "..                          ...               ...  \n",
      "56                          NaN               NaT  \n",
      "57                          NaN               NaT  \n",
      "58                          NaN               NaT  \n",
      "59  2024-03-24T12:00:00-GST-001 -2 days +13:48:00  \n",
      "60                          NaN               NaT  \n",
      "\n",
      "[61 rows x 8 columns]\n"
     ]
    }
   ],
   "source": [
    "# Compute the time diff between startTime_GST and startTime_CME by creating a new column called `timeDiff`.\n",
    "cme_gst_df['startTime_GST'] = pd.to_datetime(cme_gst_df['startTime_GST'])\n",
    "cme_gst_df['startTime_CME'] = pd.to_datetime(cme_gst_df['startTime_CME'])\n",
    "cme_gst_df['timeDiff'] = cme_gst_df['startTime_CME'] - cme_gst_df['startTime_GST']\n",
    "\n",
    "print(cme_gst_df)"
   ]
  },
  {
   "cell_type": "code",
   "execution_count": 94,
   "metadata": {},
   "outputs": [
    {
     "data": {
      "text/plain": [
       "count                            6\n",
       "mean             -4 days +05:29:00\n",
       "std      1 days 04:10:07.703849362\n",
       "min              -5 days +11:12:00\n",
       "25%              -5 days +16:39:00\n",
       "50%              -5 days +17:27:00\n",
       "75%              -4 days +01:49:30\n",
       "max              -2 days +13:48:00\n",
       "Name: timeDiff, dtype: object"
      ]
     },
     "execution_count": 94,
     "metadata": {},
     "output_type": "execute_result"
    }
   ],
   "source": [
    "# Use describe() to compute the mean and median time \n",
    "# that it takes for a CME to cause a GST. \n",
    "\n",
    "cme_gst_df['timeDiff'].describe()\n",
    "\n"
   ]
  },
  {
   "cell_type": "markdown",
   "metadata": {},
   "source": [
    "### Exporting data in csv format"
   ]
  },
  {
   "cell_type": "code",
   "execution_count": 95,
   "metadata": {},
   "outputs": [],
   "source": [
    "# Export data to CSV without the index\n",
    "cme_gst_df.to_csv('merged.csv', index=False)"
   ]
  }
 ],
 "metadata": {
  "kernelspec": {
   "display_name": "Python 3 (ipykernel)",
   "language": "python",
   "name": "python3"
  },
  "language_info": {
   "codemirror_mode": {
    "name": "ipython",
    "version": 3
   },
   "file_extension": ".py",
   "mimetype": "text/x-python",
   "name": "python",
   "nbconvert_exporter": "python",
   "pygments_lexer": "ipython3",
   "version": "3.12.4"
  },
  "varInspector": {
   "cols": {
    "lenName": 16,
    "lenType": 16,
    "lenVar": 40
   },
   "kernels_config": {
    "python": {
     "delete_cmd_postfix": "",
     "delete_cmd_prefix": "del ",
     "library": "var_list.py",
     "varRefreshCmd": "print(var_dic_list())"
    },
    "r": {
     "delete_cmd_postfix": ") ",
     "delete_cmd_prefix": "rm(",
     "library": "var_list.r",
     "varRefreshCmd": "cat(var_dic_list()) "
    }
   },
   "types_to_exclude": [
    "module",
    "function",
    "builtin_function_or_method",
    "instance",
    "_Feature"
   ],
   "window_display": false
  }
 },
 "nbformat": 4,
 "nbformat_minor": 4
}
